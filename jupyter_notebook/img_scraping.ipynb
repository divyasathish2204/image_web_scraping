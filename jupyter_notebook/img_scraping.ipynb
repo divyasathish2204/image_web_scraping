{
 "cells": [
  {
   "cell_type": "code",
   "execution_count": 51,
   "metadata": {},
   "outputs": [],
   "source": [
    "import logging\n",
    "import os\n",
    "from bs4 import BeautifulSoup\n",
    "import requests\n",
    "import urllib\n"
   ]
  },
  {
   "cell_type": "code",
   "execution_count": 52,
   "metadata": {},
   "outputs": [],
   "source": [
    "save_dir = \"images/\"\n",
    "if not os.path.exists(save_dir):\n",
    "    os.makedirs(save_dir)"
   ]
  },
  {
   "cell_type": "code",
   "execution_count": 53,
   "metadata": {},
   "outputs": [],
   "source": [
    "query = \"Ratan Tata\"\n",
    "#url = https://www.google.com/search?sxsrf=AB5stBjQuVlLjUmHEw50hyjHwWFDH0z_Yw:1690803729083&q=elon+musk&tbm=isch&source=lnms&sa=X&ved=2ahUKEwiylKDd7riAAxWDbWwGHdYmDJ4Q0pQJ\n",
    "response=requests.get(f\"https://www.google.com/search?sxsrf=AB5stBjQuVlLjUmHEw50hyjHwWFDH0z_Yw:1690803729083&q={query}=Ratan+Tata&tbm=isch&source=lnms&sa=X&ved=2ahUKEwiylKDd7riAAxWDbWwGHdYmDJ4Q0pQJ\")\n"
   ]
  },
  {
   "cell_type": "code",
   "execution_count": 54,
   "metadata": {},
   "outputs": [
    {
     "data": {
      "text/plain": [
       "<Response [200]>"
      ]
     },
     "execution_count": 54,
     "metadata": {},
     "output_type": "execute_result"
    }
   ],
   "source": [
    "response"
   ]
  },
  {
   "cell_type": "code",
   "execution_count": 55,
   "metadata": {},
   "outputs": [],
   "source": [
    "soup = BeautifulSoup(response.content,\"html.parser\")\n"
   ]
  },
  {
   "cell_type": "code",
   "execution_count": 56,
   "metadata": {},
   "outputs": [
    {
     "data": {
      "text/plain": [
       "<!DOCTYPE html PUBLIC \"-//WAPFORUM//DTD XHTML Mobile 1.0//EN\" \"http://www.wapforum.org/DTD/xhtml-mobile10.dtd\">\n",
       "<html lang=\"en-IN\" xmlns=\"http://www.w3.org/1999/xhtml\"><head><meta content=\"application/xhtml+xml; charset=utf-8\" http-equiv=\"Content-Type\"/><meta content=\"no-cache\" name=\"Cache-Control\"/><title>Ratan Tata=Ratan Tata - Google Search</title><style>a{text-decoration:none;color:inherit}a:hover{text-decoration:underline}a img{border:0}body{font-family:arial,sans-serif;padding:8px;margin:0 auto;max-width:700px;min-width:240px;}.FbhRzb{border-left:thin solid #dadce0;border-right:thin solid #dadce0;border-top:thin solid #dadce0;height:40px;overflow:hidden}.n692Zd{margin-bottom:10px}.cvifge{height:40px;border-spacing:0}.QvGUP{height:40px;padding:0 8px 0 8px;vertical-align:top}.O4cRJf{height:40px;width:100%;padding:0;padding-right:16px}.O1ePr{height:40px;padding:0;vertical-align:top}.kgJEQe{height:36px;width:98px;vertical-align:top;margin-top:4px}.lXLRf{vertical-align:top}.MhzMZd{border:0;vertical-align:middle;font-size:14px;height:40px;padding:0;width:100%;padding-left:16px}.xB0fq{height:40px;border:none;font-size:14px;background-color:#1a73e8;color:#fff;padding:0 16px;margin:0;vertical-align:top;cursor:pointer}.xB0fq:focus{border:1px solid #1a73e8}.M7pB2{border:thin solid #dadce0;margin:0 0 3px 0;font-size:13px;font-weight:500;height:40px}.euZec{width:100%;height:40px;text-align:center;border-spacing:0}table.euZec td{padding:0;width:25%}.QIqI7{display:inline-block;padding-top:4px;font-weight:bold;color:#4285f4}.EY24We{border-bottom:2px solid #4285f4}.CsQyDc{display:inline-block;color:#70757a}.TuS8Ad{font-size:14px}.HddGcc{padding:8px;color:#70757a}.dzp8ae{font-weight:bold;color:#3c4043}.rEM8G{color:#70757a}.bookcf{table-layout:fixed;width:100%;border-spacing:0}.InWNIe{text-align:center}.uZgmoc{border:thin solid #dadce0;color:#70757a;font-size:14px;text-align:center;table-layout:fixed;width:100%}.frGj1b{display:block;padding:12px 0 12px 0;width:100%}.BnJWBc{text-align:center;padding:6px 0 13px 0;height:35px}.e3goi{vertical-align:top;padding:0;height:180px}.GpQGbf{margin:auto;border-collapse:collapse;border-spacing:0;width:100%}</style></head><body><style>.X6ZCif{color:#202124;font-size:11px;line-height:16px;display:inline-block;padding-top:2px;overflow:hidden;padding-bottom:4px;width:100%}.TwVfHd{border-radius:16px;border:thin solid #dadce0;display:inline-block;padding:8px 8px;margin-right:8px;margin-bottom:4px}.yekiAe{background-color:#dadce0}.mnTahd{width:100%}.ezO2md{border:thin solid #dadce0;padding:12px 16px 12px 16px;margin-bottom:10px;font-family:arial,sans-serif}.lIMUZd{font-family:arial,sans-serif}.IkMU6e{border-spacing:0}.SjCsie{width:100%}.EnarA{text-align:center}.NZWO1b{width:162px;height:140px;line-height:140px;overflow:'hidden';text-align:center}.yWs4tf{text-align:center;margin:auto;vertical-align:middle;max-width:162px;max-height:140px}.jB2rPd{padding-top:2px;padding-bottom:8px;}.fYyStc{word-break:break-word}.ynsChf{display:block;white-space:nowrap;overflow:hidden;text-overflow:ellipsis}.Fj3V3b{color:#1967d2;font-size:14px;line-height:20px}.FrIlee{color:#202124;font-size:11px;line-height:16px}.F9iS2e{color:#70757a;font-size:11px;line-height:16px}.WMQ2Le{color:#70757a;font-size:12px;line-height:16px}.x3G5ab{color:#202124;font-size:12px;line-height:16px}.fuLhoc{color:#1967d2;font-size:16px;line-height:20px}.epoveb{font-size:24px;line-height:28px;font-weight:400;color:#202124}.dXDvrc{color:#0d652d;font-size:14px;line-height:20px;word-wrap:break-word}.dloBPe{font-weight:bold}.YVIcad{color:#70757a}.JkVVdd{color:#ea4335}.oXZRFd{color:#ea4335}.MQHtg{color:#fbbc04}.pyMRrb{color:#1e8e3e}.EtTZid{color:#1e8e3e}.M3vVJe{color:#1967d2}.qXLe6d{display:block}.NHQNef{font-style:italic}.Cb8Z7c{white-space:pre}a.ZWRArf{text-decoration:none}a .CVA68e:hover{text-decoration:underline}</style><div class=\"n692Zd\"><div class=\"BnJWBc\"><a class=\"lXLRf\" href=\"/?sa=X&amp;output=images&amp;ie=UTF-8&amp;tbm=isch&amp;ved=0ahUKEwitl7jj6rqAAxUXGIgKHSwsAd4QPAgC\"><img alt=\"Google\" class=\"kgJEQe\" src=\"/images/branding/searchlogo/1x/googlelogo_desk_heirloom_color_150x55dp.gif\"/></a></div><div class=\"FbhRzb\"><form action=\"/search\"><input name=\"ie\" type=\"hidden\" value=\"ISO-8859-1\"/><input name=\"tbm\" type=\"hidden\" value=\"isch\"/><input name=\"oq\" type=\"hidden\"/><input name=\"aqs\" type=\"hidden\"/><table class=\"cvifge\"><tr><td class=\"O4cRJf\"><input class=\"MhzMZd\" name=\"q\" type=\"text\" value=\"Ratan Tata=Ratan Tata\"/></td><td class=\"O1ePr\"><input class=\"xB0fq\" type=\"submit\" value=\"Search\"/></td></tr></table></form></div><div class=\"M7pB2\"><table class=\"euZec\"><tbody><tr><td><a class=\"CsQyDc\" href=\"/search?q=Ratan+Tata%3DRatan+Tata&amp;ie=UTF-8&amp;source=lnms&amp;sa=X&amp;ved=0ahUKEwitl7jj6rqAAxUXGIgKHSwsAd4Q_AUIBCgA\">ALL</a></td><td><a class=\"CsQyDc\" href=\"/search?q=Ratan+Tata%3DRatan+Tata&amp;ie=UTF-8&amp;tbm=nws&amp;source=lnms&amp;sa=X&amp;ved=0ahUKEwitl7jj6rqAAxUXGIgKHSwsAd4Q_AUIBSgB\">NEWS</a></td><td class=\"EY24We\"><span class=\"QIqI7\">IMAGES</span></td><td><a class=\"CsQyDc\" href=\"/search?q=Ratan+Tata%3DRatan+Tata&amp;ie=UTF-8&amp;tbm=vid&amp;source=lnms&amp;sa=X&amp;ved=0ahUKEwitl7jj6rqAAxUXGIgKHSwsAd4Q_AUIBygD\">VIDEOS</a></td></tr></tbody></table></div></div><div><table class=\"GpQGbf\"><tr><td align=\"center\" class=\"e3goi\"><div class=\"mnTahd\"> <div> <div class=\"lIMUZd\"><div><table class=\"IkMU6e\"><tr><td><a href=\"/url?q=https://en.wikipedia.org/wiki/Ratan_Tata&amp;sa=U&amp;ved=2ahUKEwitl7jj6rqAAxUXGIgKHSwsAd4QqoUBegQIABAB&amp;usg=AOvVaw0CHXFEMTbJ70lN8bSs-34c\"><div class=\"NZWO1b\"><img alt=\"\" class=\"yWs4tf\" src=\"https://encrypted-tbn0.gstatic.com/images?q=tbn:ANd9GcQIWLtpMJt24qtQF64M3pqitAmL0aZpZt7j-ySbCEVVjeSZMK2S4o0XPsvliQ&amp;s\"/></div></a></td></tr><tr><td><a href=\"/url?q=https://en.wikipedia.org/wiki/Ratan_Tata&amp;sa=U&amp;ved=2ahUKEwitl7jj6rqAAxUXGIgKHSwsAd4Qr4kDegQIABAC&amp;usg=AOvVaw168YXH80zSKmTXI3Ij4KHW\"><div class=\"jB2rPd\"> <span class=\"qXLe6d x3G5ab\"> <span class=\"fYyStc\">Ratan Tata - Wikipedia</span> </span> <span class=\"qXLe6d F9iS2e\"> <span class=\"fYyStc\">en.wikipedia.org</span> </span> </div></a></td></tr></table></div></div> </div> </div></td><td align=\"center\" class=\"e3goi\"><div class=\"mnTahd\"> <div> <div class=\"lIMUZd\"><div><table class=\"IkMU6e\"><tr><td><a href=\"/url?q=https://www.tatatrusts.org/about-tatatrusts/ratan-n-tata&amp;sa=U&amp;ved=2ahUKEwitl7jj6rqAAxUXGIgKHSwsAd4QqoUBegQIExAB&amp;usg=AOvVaw3hjSke0av613nSrlqseLZ2\"><div class=\"NZWO1b\"><img alt=\"\" class=\"yWs4tf\" src=\"https://encrypted-tbn0.gstatic.com/images?q=tbn:ANd9GcSgBXS8BgkPdxrP3jERNcN2c1cjrrEiFn3d6GCXTB_ysIpevMuzbgp5kupksA&amp;s\"/></div></a></td></tr><tr><td><a href=\"/url?q=https://www.tatatrusts.org/about-tatatrusts/ratan-n-tata&amp;sa=U&amp;ved=2ahUKEwitl7jj6rqAAxUXGIgKHSwsAd4Qr4kDegQIExAC&amp;usg=AOvVaw26ueTf6qIoCu4qKhGAG7FZ\"><div class=\"jB2rPd\"> <span class=\"qXLe6d x3G5ab\"> <span class=\"fYyStc\">Ratan N Tata</span> </span> <span class=\"qXLe6d F9iS2e\"> <span class=\"fYyStc\">www.tatatrusts.org</span> </span> </div></a></td></tr></table></div></div> </div> </div></td><td align=\"center\" class=\"e3goi\"><div class=\"mnTahd\"> <div> <div class=\"lIMUZd\"><div><table class=\"IkMU6e\"><tr><td><a href=\"/url?q=https://www.gqindia.com/content/ratan-tata-the-indomitable-businessman-with-a-net-worth-of-rs-3800-crore-philanthropic-legacy&amp;sa=U&amp;ved=2ahUKEwitl7jj6rqAAxUXGIgKHSwsAd4QqoUBegQIEhAB&amp;usg=AOvVaw0cxk2gpfciQNrKvvkZLS65\"><div class=\"NZWO1b\"><img alt=\"\" class=\"yWs4tf\" src=\"https://encrypted-tbn0.gstatic.com/images?q=tbn:ANd9GcQngoJ_a0hQsbWbS7c5jhK3Wt0nX9ZxJ-NS9CMESoHrTYD3Gu7xKFoN_QFkth8&amp;s\"/></div></a></td></tr><tr><td><a href=\"/url?q=https://www.gqindia.com/content/ratan-tata-the-indomitable-businessman-with-a-net-worth-of-rs-3800-crore-philanthropic-legacy&amp;sa=U&amp;ved=2ahUKEwitl7jj6rqAAxUXGIgKHSwsAd4Qr4kDegQIEhAC&amp;usg=AOvVaw02rmmhkM3woOpJ1Xcv1Rz-\"><div class=\"jB2rPd\"> <span class=\"qXLe6d x3G5ab\"> <span class=\"fYyStc\">Ratan Tata, the indomitable...</span> </span> <span class=\"qXLe6d F9iS2e\"> <span class=\"fYyStc\">www.gqindia.com</span> </span> </div></a></td></tr></table></div></div> </div> </div></td><td align=\"center\" class=\"e3goi\"><div class=\"mnTahd\"> <div> <div class=\"lIMUZd\"><div><table class=\"IkMU6e\"><tr><td><a href=\"/url?q=https://www.midlandbookshop.com/en/product/ratan-tata-a-life&amp;sa=U&amp;ved=2ahUKEwitl7jj6rqAAxUXGIgKHSwsAd4QqoUBegQIChAB&amp;usg=AOvVaw0v53lXHgY23gnSe7-U4BMd\"><div class=\"NZWO1b\"><img alt=\"\" class=\"yWs4tf\" src=\"https://encrypted-tbn0.gstatic.com/images?q=tbn:ANd9GcQ-fURsJXyvMvhqd4-cVvyX4sOKonpUSKArd_N-AVYiz2LPwOlsx5Y1iHct5II&amp;s\"/></div></a></td></tr><tr><td><a href=\"/url?q=https://www.midlandbookshop.com/en/product/ratan-tata-a-life&amp;sa=U&amp;ved=2ahUKEwitl7jj6rqAAxUXGIgKHSwsAd4Qr4kDegQIChAC&amp;usg=AOvVaw1cAlOS6Q0kFYJyoEB6U00q\"><div class=\"jB2rPd\"> <span class=\"qXLe6d x3G5ab\"> <span class=\"fYyStc\">Ratan Tata : A Life</span> </span> <span class=\"qXLe6d F9iS2e\"> <span class=\"fYyStc\">www.midlandbookshop.com</span> </span> </div></a></td></tr></table></div></div> </div> </div></td></tr><tr><td align=\"center\" class=\"e3goi\"><div class=\"mnTahd\"> <div> <div class=\"lIMUZd\"><div><table class=\"IkMU6e\"><tr><td><a href=\"/url?q=https://www.tata.com/about-us/tata-group-our-heritage/tata-titans/ratan-naval-tata&amp;sa=U&amp;ved=2ahUKEwitl7jj6rqAAxUXGIgKHSwsAd4QqoUBegQIDRAB&amp;usg=AOvVaw0gdmMv4MCB-aoJ9mVbBCMs\"><div class=\"NZWO1b\"><img alt=\"\" class=\"yWs4tf\" src=\"https://encrypted-tbn0.gstatic.com/images?q=tbn:ANd9GcSempLAY7Cuy-xVddlPjMre4OS562CQoVloUfqFBqV7wPUoHPy9k5aKssFYXXY&amp;s\"/></div></a></td></tr><tr><td><a href=\"/url?q=https://www.tata.com/about-us/tata-group-our-heritage/tata-titans/ratan-naval-tata&amp;sa=U&amp;ved=2ahUKEwitl7jj6rqAAxUXGIgKHSwsAd4Qr4kDegQIDRAC&amp;usg=AOvVaw00mFmHbsVhKeOnStKVlbyS\"><div class=\"jB2rPd\"> <span class=\"qXLe6d x3G5ab\"> <span class=\"fYyStc\">Ratan Naval Tata | Tata...</span> </span> <span class=\"qXLe6d F9iS2e\"> <span class=\"fYyStc\">www.tata.com</span> </span> </div></a></td></tr></table></div></div> </div> </div></td><td align=\"center\" class=\"e3goi\"><div class=\"mnTahd\"> <div> <div class=\"lIMUZd\"><div><table class=\"IkMU6e\"><tr><td><a href=\"/url?q=https://www.financialexpress.com/lifestyle/ratan-tatas-luxurious-lifestyle-a-look-at-super-expensive-things-owned-by-the-business-tycoon/2989704/&amp;sa=U&amp;ved=2ahUKEwitl7jj6rqAAxUXGIgKHSwsAd4QqoUBegQIEBAB&amp;usg=AOvVaw22ZT8QIzoVJ3-RWBOR-tJD\"><div class=\"NZWO1b\"><img alt=\"\" class=\"yWs4tf\" src=\"https://encrypted-tbn0.gstatic.com/images?q=tbn:ANd9GcQuIeQkVl2BQAmLEMcHjmNlE234D4y39_pHUFEq7_7GAlWR87FT_ZO6VJWdHWY&amp;s\"/></div></a></td></tr><tr><td><a href=\"/url?q=https://www.financialexpress.com/lifestyle/ratan-tatas-luxurious-lifestyle-a-look-at-super-expensive-things-owned-by-the-business-tycoon/2989704/&amp;sa=U&amp;ved=2ahUKEwitl7jj6rqAAxUXGIgKHSwsAd4Qr4kDegQIEBAC&amp;usg=AOvVaw30BWoeJVQziCCx1KGgcU07\"><div class=\"jB2rPd\"> <span class=\"qXLe6d x3G5ab\"> <span class=\"fYyStc\">Ratan Tata's luxurious...</span> </span> <span class=\"qXLe6d F9iS2e\"> <span class=\"fYyStc\">www.financialexpress.com</span> </span> </div></a></td></tr></table></div></div> </div> </div></td><td align=\"center\" class=\"e3goi\"><div class=\"mnTahd\"> <div> <div class=\"lIMUZd\"><div><table class=\"IkMU6e\"><tr><td><a href=\"/url?q=https://www.livemint.com/companies/people/ratan-tata-at-his-candid-best-talks-about-his-break-up-childhood-parent-s-divorce-11581578229708.html&amp;sa=U&amp;ved=2ahUKEwitl7jj6rqAAxUXGIgKHSwsAd4QqoUBegQIDhAB&amp;usg=AOvVaw01nxzvkXOk7H2beht1_dT6\"><div class=\"NZWO1b\"><img alt=\"\" class=\"yWs4tf\" src=\"https://encrypted-tbn0.gstatic.com/images?q=tbn:ANd9GcSVwBWAI8Ap_eFDV4pWDY5ptNtDoPwo_K-X8IS4g7WZ_n995s4wlelwOyB04U0&amp;s\"/></div></a></td></tr><tr><td><a href=\"/url?q=https://www.livemint.com/companies/people/ratan-tata-at-his-candid-best-talks-about-his-break-up-childhood-parent-s-divorce-11581578229708.html&amp;sa=U&amp;ved=2ahUKEwitl7jj6rqAAxUXGIgKHSwsAd4Qr4kDegQIDhAC&amp;usg=AOvVaw0aMlCU1C_JdRW1cj-Tk2Tx\"><div class=\"jB2rPd\"> <span class=\"qXLe6d x3G5ab\"> <span class=\"fYyStc\">Ratan Tata at his candid...</span> </span> <span class=\"qXLe6d F9iS2e\"> <span class=\"fYyStc\">www.livemint.com</span> </span> </div></a></td></tr></table></div></div> </div> </div></td><td align=\"center\" class=\"e3goi\"><div class=\"mnTahd\"> <div> <div class=\"lIMUZd\"><div><table class=\"IkMU6e\"><tr><td><a href=\"/url?q=https://twitter.com/RNTata2000&amp;sa=U&amp;ved=2ahUKEwitl7jj6rqAAxUXGIgKHSwsAd4QqoUBegQIERAB&amp;usg=AOvVaw0DgI1OVSp75zzFbQMnQLxt\"><div class=\"NZWO1b\"><img alt=\"\" class=\"yWs4tf\" src=\"https://encrypted-tbn0.gstatic.com/images?q=tbn:ANd9GcSMs5tVRu5UKhR3wQjL8_EUkcRV5fFaFMNVVsxPGccWPQSUnrB4jLr27ywAZQ&amp;s\"/></div></a></td></tr><tr><td><a href=\"/url?q=https://twitter.com/RNTata2000&amp;sa=U&amp;ved=2ahUKEwitl7jj6rqAAxUXGIgKHSwsAd4Qr4kDegQIERAC&amp;usg=AOvVaw1uPjEIxyOTZlJZmhA4sJSI\"><div class=\"jB2rPd\"> <span class=\"qXLe6d x3G5ab\"> <span class=\"fYyStc\">Ratan N. Tata (@RNTata2000)...</span> </span> <span class=\"qXLe6d F9iS2e\"> <span class=\"fYyStc\">twitter.com</span> </span> </div></a></td></tr></table></div></div> </div> </div></td></tr><tr><td align=\"center\" class=\"e3goi\"><div class=\"mnTahd\"> <div> <div class=\"lIMUZd\"><div><table class=\"IkMU6e\"><tr><td><a href=\"/url?q=https://nationaltoday.com/birthday/ratan-tata/&amp;sa=U&amp;ved=2ahUKEwitl7jj6rqAAxUXGIgKHSwsAd4QqoUBegQIDxAB&amp;usg=AOvVaw2_Of4iYIhqUSyul8C6KsgF\"><div class=\"NZWO1b\"><img alt=\"\" class=\"yWs4tf\" src=\"https://encrypted-tbn0.gstatic.com/images?q=tbn:ANd9GcTZu6yJNsn1Lm-dCXYFHyLW-SS8uOopI4FSjQr4PdLIMoPZTiDUA-jfjwkZxQ&amp;s\"/></div></a></td></tr><tr><td><a href=\"/url?q=https://nationaltoday.com/birthday/ratan-tata/&amp;sa=U&amp;ved=2ahUKEwitl7jj6rqAAxUXGIgKHSwsAd4Qr4kDegQIDxAC&amp;usg=AOvVaw3SrI8CQCO2-AptAh7o13M5\"><div class=\"jB2rPd\"> <span class=\"qXLe6d x3G5ab\"> <span class=\"fYyStc\">Ratan Tata - Age, Bio,...</span> </span> <span class=\"qXLe6d F9iS2e\"> <span class=\"fYyStc\">nationaltoday.com</span> </span> </div></a></td></tr></table></div></div> </div> </div></td><td align=\"center\" class=\"e3goi\"><div class=\"mnTahd\"> <div> <div class=\"lIMUZd\"><div><table class=\"IkMU6e\"><tr><td><a href=\"/url?q=https://www.britannica.com/biography/Ratan-Tata&amp;sa=U&amp;ved=2ahUKEwitl7jj6rqAAxUXGIgKHSwsAd4QqoUBegQICRAB&amp;usg=AOvVaw32ZpktVPvD1oGVHyx-DER3\"><div class=\"NZWO1b\"><img alt=\"\" class=\"yWs4tf\" src=\"https://encrypted-tbn0.gstatic.com/images?q=tbn:ANd9GcQBh9dLklBp0ZBd64ABlQI78subu5nqEKwYDuXrVQSpeGdy3MR-fhurhbyjyoc&amp;s\"/></div></a></td></tr><tr><td><a href=\"/url?q=https://www.britannica.com/biography/Ratan-Tata&amp;sa=U&amp;ved=2ahUKEwitl7jj6rqAAxUXGIgKHSwsAd4Qr4kDegQICRAC&amp;usg=AOvVaw3PMjUxZmhs8VlhNFit9N6R\"><div class=\"jB2rPd\"> <span class=\"qXLe6d x3G5ab\"> <span class=\"fYyStc\">Ratan Tata | Biography,...</span> </span> <span class=\"qXLe6d F9iS2e\"> <span class=\"fYyStc\">www.britannica.com</span> </span> </div></a></td></tr></table></div></div> </div> </div></td><td align=\"center\" class=\"e3goi\"><div class=\"mnTahd\"> <div> <div class=\"lIMUZd\"><div><table class=\"IkMU6e\"><tr><td><a href=\"/url?q=https://www.jagranjosh.com/general-knowledge/ratan-tata-biography-1640668054-1&amp;sa=U&amp;ved=2ahUKEwitl7jj6rqAAxUXGIgKHSwsAd4QqoUBegQICxAB&amp;usg=AOvVaw1q0wnySw_SiWJMym2GExqA\"><div class=\"NZWO1b\"><img alt=\"\" class=\"yWs4tf\" src=\"https://encrypted-tbn0.gstatic.com/images?q=tbn:ANd9GcQnynA-RGp9xFS4KM5Ce56HtjZWbHRVFoPTODV1Slk32f51LdTYr56_s3QjoQ&amp;s\"/></div></a></td></tr><tr><td><a href=\"/url?q=https://www.jagranjosh.com/general-knowledge/ratan-tata-biography-1640668054-1&amp;sa=U&amp;ved=2ahUKEwitl7jj6rqAAxUXGIgKHSwsAd4Qr4kDegQICxAC&amp;usg=AOvVaw02nH9FuTvo8vn0OM9WpmaN\"><div class=\"jB2rPd\"> <span class=\"qXLe6d x3G5ab\"> <span class=\"fYyStc\">Ratan Tata Biography:...</span> </span> <span class=\"qXLe6d F9iS2e\"> <span class=\"fYyStc\">www.jagranjosh.com</span> </span> </div></a></td></tr></table></div></div> </div> </div></td><td align=\"center\" class=\"e3goi\"><div class=\"mnTahd\"> <div> <div class=\"lIMUZd\"><div><table class=\"IkMU6e\"><tr><td><a href=\"/url?q=https://www.amazon.in/Wit-Wisdom-Ratan-Tata/dp/9385827294&amp;sa=U&amp;ved=2ahUKEwitl7jj6rqAAxUXGIgKHSwsAd4QqoUBegQIDBAB&amp;usg=AOvVaw36KlV9bzzQo_QyKP2SH0Uc\"><div class=\"NZWO1b\"><img alt=\"\" class=\"yWs4tf\" src=\"https://encrypted-tbn0.gstatic.com/images?q=tbn:ANd9GcSNexsyhTbbSUW40JPoC_4HFj23Z_u_6xXeqPkAfDU3p1YChn27Eui75CFnzNI&amp;s\"/></div></a></td></tr><tr><td><a href=\"/url?q=https://www.amazon.in/Wit-Wisdom-Ratan-Tata/dp/9385827294&amp;sa=U&amp;ved=2ahUKEwitl7jj6rqAAxUXGIgKHSwsAd4Qr4kDegQIDBAC&amp;usg=AOvVaw1099olPuxwtbJFVoLZJBe0\"><div class=\"jB2rPd\"> <span class=\"qXLe6d x3G5ab\"> <span class=\"fYyStc\">Buy The Wit &amp; Wisdom of...</span> </span> <span class=\"qXLe6d F9iS2e\"> <span class=\"fYyStc\">www.amazon.in</span> </span> </div></a></td></tr></table></div></div> </div> </div></td></tr><tr><td align=\"center\" class=\"e3goi\"><div class=\"mnTahd\"> <div> <div class=\"lIMUZd\"><div><table class=\"IkMU6e\"><tr><td><a href=\"/url?q=https://www.gqindia.com/get-smart/content/despite-a-net-worth-of-rs-3500-crore-heres-why-ratan-tata-is-not-among-the-worlds-richest-persons&amp;sa=U&amp;ved=2ahUKEwitl7jj6rqAAxUXGIgKHSwsAd4QqoUBegQIBhAB&amp;usg=AOvVaw0efh5dxZhnFESxuoXM00FI\"><div class=\"NZWO1b\"><img alt=\"\" class=\"yWs4tf\" src=\"https://encrypted-tbn0.gstatic.com/images?q=tbn:ANd9GcQnb0iCF-XkSDPj9TLpLDnKS4-HeKiM8WOQ6kttPM0EHYt5AHpfJvdum4NQSmA&amp;s\"/></div></a></td></tr><tr><td><a href=\"/url?q=https://www.gqindia.com/get-smart/content/despite-a-net-worth-of-rs-3500-crore-heres-why-ratan-tata-is-not-among-the-worlds-richest-persons&amp;sa=U&amp;ved=2ahUKEwitl7jj6rqAAxUXGIgKHSwsAd4Qr4kDegQIBhAC&amp;usg=AOvVaw3Mgf7FxKIzcOTj_mqtMzku\"><div class=\"jB2rPd\"> <span class=\"qXLe6d x3G5ab\"> <span class=\"fYyStc\">Despite a net worth of Rs...</span> </span> <span class=\"qXLe6d F9iS2e\"> <span class=\"fYyStc\">www.gqindia.com</span> </span> </div></a></td></tr></table></div></div> </div> </div></td><td align=\"center\" class=\"e3goi\"><div class=\"mnTahd\"> <div> <div class=\"lIMUZd\"><div><table class=\"IkMU6e\"><tr><td><a href=\"/url?q=https://www.equitymaster.com/detail.asp%3Fdate%3D01/20/2022%26story%3D5%26title%3DJLR-Corus-Tetley-%252D-Was-Ratan-Tatas-Go-Global-Strategy-Right-Afterall&amp;sa=U&amp;ved=2ahUKEwitl7jj6rqAAxUXGIgKHSwsAd4QqoUBegQICBAB&amp;usg=AOvVaw2BVsQGJ8IlqFKCV4QUJ7HB\"><div class=\"NZWO1b\"><img alt=\"\" class=\"yWs4tf\" src=\"https://encrypted-tbn0.gstatic.com/images?q=tbn:ANd9GcSBH2dVmQizg_J6yNhYtg8-ELI6aOpLw9Hkvd3mFjKyOvemBQkY8gK0IApXxQ&amp;s\"/></div></a></td></tr><tr><td><a href=\"/url?q=https://www.equitymaster.com/detail.asp%3Fdate%3D01/20/2022%26story%3D5%26title%3DJLR-Corus-Tetley-%252D-Was-Ratan-Tatas-Go-Global-Strategy-Right-Afterall&amp;sa=U&amp;ved=2ahUKEwitl7jj6rqAAxUXGIgKHSwsAd4Qr4kDegQICBAC&amp;usg=AOvVaw3T5lj5eqRDegvF8PuITJJv\"><div class=\"jB2rPd\"> <span class=\"qXLe6d x3G5ab\"> <span class=\"fYyStc\">JLR, Corus, Tetley - Was...</span> </span> <span class=\"qXLe6d F9iS2e\"> <span class=\"fYyStc\">www.equitymaster.com</span> </span> </div></a></td></tr></table></div></div> </div> </div></td><td align=\"center\" class=\"e3goi\"><div class=\"mnTahd\"> <div> <div class=\"lIMUZd\"><div><table class=\"IkMU6e\"><tr><td><a href=\"/url?q=https://www.zeebiz.com/trending/photo-gallery-ratan-tata-birthday-2022-birth-age-education-family-net-worth-house-private-jet-and-more-check-ratan-tatas-biography-here-214770&amp;sa=U&amp;ved=2ahUKEwitl7jj6rqAAxUXGIgKHSwsAd4QqoUBegQIBxAB&amp;usg=AOvVaw3avf0lIA4zHUIDllwAfaAV\"><div class=\"NZWO1b\"><img alt=\"\" class=\"yWs4tf\" src=\"https://encrypted-tbn0.gstatic.com/images?q=tbn:ANd9GcQNiBB27Mi75PP5gE1pcXj_LMG7yzfdckiE05_uDaaGk9-V6yWO_nrT1eTIkpc&amp;s\"/></div></a></td></tr><tr><td><a href=\"/url?q=https://www.zeebiz.com/trending/photo-gallery-ratan-tata-birthday-2022-birth-age-education-family-net-worth-house-private-jet-and-more-check-ratan-tatas-biography-here-214770&amp;sa=U&amp;ved=2ahUKEwitl7jj6rqAAxUXGIgKHSwsAd4Qr4kDegQIBxAC&amp;usg=AOvVaw0fk1ipqmUCyKR_YqipFtOQ\"><div class=\"jB2rPd\"> <span class=\"qXLe6d x3G5ab\"> <span class=\"fYyStc\">Ratan Tata Birthday 2022:...</span> </span> <span class=\"qXLe6d F9iS2e\"> <span class=\"fYyStc\">www.zeebiz.com</span> </span> </div></a></td></tr></table></div></div> </div> </div></td><td align=\"center\" class=\"e3goi\"><div class=\"mnTahd\"> <div> <div class=\"lIMUZd\"><div><table class=\"IkMU6e\"><tr><td><a href=\"/url?q=https://starsunfolded.com/ratan-tata/&amp;sa=U&amp;ved=2ahUKEwitl7jj6rqAAxUXGIgKHSwsAd4QqoUBegQIARAB&amp;usg=AOvVaw2zIXKTvR8tUbHlzjdpGdr3\"><div class=\"NZWO1b\"><img alt=\"\" class=\"yWs4tf\" src=\"https://encrypted-tbn0.gstatic.com/images?q=tbn:ANd9GcS4bikvmTA8of9YE-ji-dQsBXsq0acujPzIaMwkLwhFl9RkCBrW8q-ntxFzvA&amp;s\"/></div></a></td></tr><tr><td><a href=\"/url?q=https://starsunfolded.com/ratan-tata/&amp;sa=U&amp;ved=2ahUKEwitl7jj6rqAAxUXGIgKHSwsAd4Qr4kDegQIARAC&amp;usg=AOvVaw0sUT0tGzhjdozpp93SI83g\"><div class=\"jB2rPd\"> <span class=\"qXLe6d x3G5ab\"> <span class=\"fYyStc\">Ratan Tata Age, Wife,...</span> </span> <span class=\"qXLe6d F9iS2e\"> <span class=\"fYyStc\">starsunfolded.com</span> </span> </div></a></td></tr></table></div></div> </div> </div></td></tr><tr><td align=\"center\" class=\"e3goi\"><div class=\"mnTahd\"> <div> <div class=\"lIMUZd\"><div><table class=\"IkMU6e\"><tr><td><a href=\"/url?q=https://jiwanparichay.in/ratan-tata/&amp;sa=U&amp;ved=2ahUKEwitl7jj6rqAAxUXGIgKHSwsAd4QqoUBegQIAxAB&amp;usg=AOvVaw1AqTGeDz-rOStWM0eIiC0R\"><div class=\"NZWO1b\"><img alt=\"\" class=\"yWs4tf\" src=\"https://encrypted-tbn0.gstatic.com/images?q=tbn:ANd9GcQd8aEBgNBLbdZ_zzr1IlZ7V00HgyUr2jo_WN_KZ4sley2unuJeS6nHhmbSnuc&amp;s\"/></div></a></td></tr><tr><td><a href=\"/url?q=https://jiwanparichay.in/ratan-tata/&amp;sa=U&amp;ved=2ahUKEwitl7jj6rqAAxUXGIgKHSwsAd4Qr4kDegQIAxAC&amp;usg=AOvVaw0zABhCxY_ECaY7FOXS8033\"><div class=\"jB2rPd\"> <span class=\"qXLe6d x3G5ab\"> <span class=\"fYyStc\">Ratan Tata Biography,...</span> </span> <span class=\"qXLe6d F9iS2e\"> <span class=\"fYyStc\">jiwanparichay.in</span> </span> </div></a></td></tr></table></div></div> </div> </div></td><td align=\"center\" class=\"e3goi\"><div class=\"mnTahd\"> <div> <div class=\"lIMUZd\"><div><table class=\"IkMU6e\"><tr><td><a href=\"/url?q=https://tradebrains.in/ratan-tata-story/&amp;sa=U&amp;ved=2ahUKEwitl7jj6rqAAxUXGIgKHSwsAd4QqoUBegQIBRAB&amp;usg=AOvVaw0jPnuzEZhDgCPnFG_ulJTy\"><div class=\"NZWO1b\"><img alt=\"\" class=\"yWs4tf\" src=\"https://encrypted-tbn0.gstatic.com/images?q=tbn:ANd9GcT11e4PTGIUrtiN2hVSKXUqTJDuebj8TPPalvqlLT-aOymJGfl7DB7Lm8HTYcQ&amp;s\"/></div></a></td></tr><tr><td><a href=\"/url?q=https://tradebrains.in/ratan-tata-story/&amp;sa=U&amp;ved=2ahUKEwitl7jj6rqAAxUXGIgKHSwsAd4Qr4kDegQIBRAC&amp;usg=AOvVaw1zCCpUyx87YHgaP1hRljjc\"><div class=\"jB2rPd\"> <span class=\"qXLe6d x3G5ab\"> <span class=\"fYyStc\">Ratan Tata Story: Biggest...</span> </span> <span class=\"qXLe6d F9iS2e\"> <span class=\"fYyStc\">tradebrains.in</span> </span> </div></a></td></tr></table></div></div> </div> </div></td><td align=\"center\" class=\"e3goi\"><div class=\"mnTahd\"> <div> <div class=\"lIMUZd\"><div><table class=\"IkMU6e\"><tr><td><a href=\"/url?q=https://www.hindustantimes.com/india-news/what-kind-of-petition-is-this-delhi-hc-knocks-back-petition-seeking-bharat-ratna-for-ratan-tata-101648727835238.html&amp;sa=U&amp;ved=2ahUKEwitl7jj6rqAAxUXGIgKHSwsAd4QqoUBegQIBBAB&amp;usg=AOvVaw1Zidk2s-sUloaBH5MOzN6H\"><div class=\"NZWO1b\"><img alt=\"\" class=\"yWs4tf\" src=\"https://encrypted-tbn0.gstatic.com/images?q=tbn:ANd9GcTwvkS-dmuXrvBLP-ktMN187h4NXL2kqJRA4tuVWbEEbA4G8nl5I6LCnnz1KA&amp;s\"/></div></a></td></tr><tr><td><a href=\"/url?q=https://www.hindustantimes.com/india-news/what-kind-of-petition-is-this-delhi-hc-knocks-back-petition-seeking-bharat-ratna-for-ratan-tata-101648727835238.html&amp;sa=U&amp;ved=2ahUKEwitl7jj6rqAAxUXGIgKHSwsAd4Qr4kDegQIBBAC&amp;usg=AOvVaw2qRZHn7qdt0hj9A0W4lXFj\"><div class=\"jB2rPd\"> <span class=\"qXLe6d x3G5ab\"> <span class=\"fYyStc\">Delhi HC knocks back...</span> </span> <span class=\"qXLe6d F9iS2e\"> <span class=\"fYyStc\">www.hindustantimes.com</span> </span> </div></a></td></tr></table></div></div> </div> </div></td><td align=\"center\" class=\"e3goi\"><div class=\"mnTahd\"> <div> <div class=\"lIMUZd\"><div><table class=\"IkMU6e\"><tr><td><a href=\"/url?q=https://www.telegraphindia.com/india/ratan-tata-former-sc-judge-among-newly-appointed-trustees-of-pm-cares-fund/cid/1887929&amp;sa=U&amp;ved=2ahUKEwitl7jj6rqAAxUXGIgKHSwsAd4QqoUBegQIAhAB&amp;usg=AOvVaw2jqCQJwBTjMQSRQ0Zy-_yM\"><div class=\"NZWO1b\"><img alt=\"\" class=\"yWs4tf\" src=\"https://encrypted-tbn0.gstatic.com/images?q=tbn:ANd9GcR53bRV4q8bgunnAsLI1FW5ewxlp4nahk3-S7dE4tRPNHxH-etbCnzfZNOIgyo&amp;s\"/></div></a></td></tr><tr><td><a href=\"/url?q=https://www.telegraphindia.com/india/ratan-tata-former-sc-judge-among-newly-appointed-trustees-of-pm-cares-fund/cid/1887929&amp;sa=U&amp;ved=2ahUKEwitl7jj6rqAAxUXGIgKHSwsAd4Qr4kDegQIAhAC&amp;usg=AOvVaw3fbZ13dB_vF5ihfRbNg8vz\"><div class=\"jB2rPd\"> <span class=\"qXLe6d x3G5ab\"> <span class=\"fYyStc\">PM Narendra Modi | Ratan...</span> </span> <span class=\"qXLe6d F9iS2e\"> <span class=\"fYyStc\">www.telegraphindia.com</span> </span> </div></a></td></tr></table></div></div> </div> </div></td></tr></table></div><table class=\"uZgmoc\"><tbody><td><a class=\"frGj1b\" href=\"/search?q=Ratan+Tata%3DRatan+Tata&amp;ie=UTF-8&amp;tbm=isch&amp;ei=W6bIZO39L5ewoASs2ITwDQ&amp;start=20&amp;sa=N\">Next &gt;</a></td></tbody></table><br/><div class=\"TuS8Ad\" data-ved=\"0ahUKEwitl7jj6rqAAxUXGIgKHSwsAd4QpyoIRQ\"><style>.VYM29{font-weight:bold}</style><div align=\"center\" class=\"HddGcc\"><span class=\"VYM29\">Chennai, Tamil Nadu</span><span> - </span><span>From your IP address</span><span> - </span><a href=\"/url?q=https://support.google.com/websearch%3Fp%3Dws_settings_location%26hl%3Den-IN&amp;sa=U&amp;ved=0ahUKEwitl7jj6rqAAxUXGIgKHSwsAd4Qty4IRg&amp;usg=AOvVaw3FuGFE2wIRH-Ho23Liwp8p\">Learn more</a></div><div align=\"center\"><a class=\"rEM8G\" href=\"/url?q=https://accounts.google.com/ServiceLogin%3Fcontinue%3Dhttps://www.google.com/search%253Fsxsrf%253DAB5stBjQuVlLjUmHEw50hyjHwWFDH0z_Yw:1690803729083%2526q%253DRatan%252BTata%25253DRatan%252BTata%2526tbm%253Disch%2526source%253Dlnms%2526sa%253DX%2526ved%253D2ahUKEwiylKDd7riAAxWDbWwGHdYmDJ4Q0pQJ%26hl%3Den&amp;sa=U&amp;ved=0ahUKEwitl7jj6rqAAxUXGIgKHSwsAd4Qxs8CCEc&amp;usg=AOvVaw1fVHiWaiR_0yGoq6-QeECZ\">Sign in</a></div><div><table class=\"bookcf\"><tbody class=\"InWNIe\"><tr><td><a class=\"rEM8G\" href=\"https://www.google.com/preferences?hl=en&amp;sa=X&amp;ved=0ahUKEwitl7jj6rqAAxUXGIgKHSwsAd4Qv5YECEg\">Settings</a></td><td><a class=\"rEM8G\" href=\"https://www.google.com/intl/en_in/policies/privacy/\">Privacy</a></td><td><a class=\"rEM8G\" href=\"https://www.google.com/intl/en_in/policies/terms/\">Terms</a></td></tr></tbody></table></div></div><div> </div></body></html>"
      ]
     },
     "execution_count": 56,
     "metadata": {},
     "output_type": "execute_result"
    }
   ],
   "source": [
    "soup"
   ]
  },
  {
   "cell_type": "code",
   "execution_count": 57,
   "metadata": {},
   "outputs": [],
   "source": [
    "image_tags = soup.find_all(\"img\")"
   ]
  },
  {
   "cell_type": "code",
   "execution_count": 58,
   "metadata": {},
   "outputs": [],
   "source": [
    "del image_tags[0]"
   ]
  },
  {
   "cell_type": "code",
   "execution_count": 59,
   "metadata": {},
   "outputs": [
    {
     "data": {
      "text/plain": [
       "<img alt=\"\" class=\"yWs4tf\" src=\"https://encrypted-tbn0.gstatic.com/images?q=tbn:ANd9GcSVwBWAI8Ap_eFDV4pWDY5ptNtDoPwo_K-X8IS4g7WZ_n995s4wlelwOyB04U0&amp;s\"/>"
      ]
     },
     "execution_count": 59,
     "metadata": {},
     "output_type": "execute_result"
    }
   ],
   "source": [
    "image_tags[6]"
   ]
  },
  {
   "cell_type": "code",
   "execution_count": 60,
   "metadata": {},
   "outputs": [
    {
     "data": {
      "text/plain": [
       "20"
      ]
     },
     "execution_count": 60,
     "metadata": {},
     "output_type": "execute_result"
    }
   ],
   "source": [
    "len(image_tags)"
   ]
  },
  {
   "cell_type": "code",
   "execution_count": 61,
   "metadata": {},
   "outputs": [],
   "source": [
    "for i in image_tags:\n",
    "    image_url= i[\"src\"]\n",
    "    image_data = requests.get(image_url).content\n",
    "    with open(os.path.join(save_dir,f\"{query}_{image_tags.index(i)}.jpg\"),\"wb\") as f:\n",
    "        f.write(image_data)\n",
    "\n",
    "\n"
   ]
  },
  {
   "cell_type": "code",
   "execution_count": null,
   "metadata": {},
   "outputs": [],
   "source": []
  }
 ],
 "metadata": {
  "kernelspec": {
   "display_name": "Python 3",
   "language": "python",
   "name": "python3"
  },
  "language_info": {
   "codemirror_mode": {
    "name": "ipython",
    "version": 3
   },
   "file_extension": ".py",
   "mimetype": "text/x-python",
   "name": "python",
   "nbconvert_exporter": "python",
   "pygments_lexer": "ipython3",
   "version": "3.9.17"
  },
  "orig_nbformat": 4
 },
 "nbformat": 4,
 "nbformat_minor": 2
}
